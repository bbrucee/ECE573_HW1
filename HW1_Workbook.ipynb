{
 "cells": [
  {
   "cell_type": "markdown",
   "metadata": {},
   "source": [
    "HW1 summary\n",
    "\n",
    "Code is often unpythonic because I wanted the code to be as similar to C++ as possible"
   ]
  },
  {
   "cell_type": "markdown",
   "metadata": {},
   "source": [
    "Q1.   We discussed two versions of the 3-sum problem: A \"naive\" implementation (O(N^3)) and a \"sophisticated\" implementation (O(N^2 lg N)). Implement these algorithms.  Your implementation should be able to read data in from regular data/text file with each entry on a separate line.  Using Data provided here, determine the run time cost of your implementations as function of input data size.  Plot and analyze (discuss) your data.  "
   ]
  },
  {
   "cell_type": "markdown",
   "metadata": {},
   "source": [
    "No data has been provided just yet but we can still write the different implementations of the 3-sum problem"
   ]
  },
  {
   "cell_type": "markdown",
   "metadata": {},
   "source": [
    "3-sum problem: Given N distinct integers, how many triple sum to exactly zero?\n",
    "\n",
    "Discussed solution 1: The brute-force algorithm\n",
    "\n",
    "Here we iterate over all triples in the array and check each one to see if it sums to 0. This results in a O(N^3) complexity.\n",
    "\n",
    "Discussed solution 2: Binary search based algorithm\n",
    "\n",
    "Here we first sort the array, then iterate over all pairs in the array and perform a binary search for each one to see if there is a 3rd element that makes a triple sum of 0. This results in a O(NlogN + N^2 logN) = O(N^2 logN) complexity"
   ]
  },
  {
   "cell_type": "code",
   "execution_count": null,
   "metadata": {},
   "outputs": [],
   "source": [
    "def brute_force_3sum(input_array):\n",
    "    count = 0\n",
    "    for i in range(0, len(input_array), 1):\n",
    "        for j in range(i+1, len(input_array), 1):\n",
    "            for k in range(j+1, len(input_array), 1):\n",
    "                if input_array[i] + input_array[j] + input_array[k] == 0:\n",
    "                    count += 1\n",
    "    return count\n",
    "\n",
    "\n",
    "# Input array must be sorted\n",
    "def binary_search(input_array, target):\n",
    "    low = 0\n",
    "    high = len(input_array)\n",
    "    while low < high:\n",
    "        mid_point = (low + high) // 2\n",
    "        if input_array[mid_point] < target:\n",
    "            low = mid_point + 1\n",
    "        elif input_array[mid_point] > target:\n",
    "            high = mid_point\n",
    "        else:\n",
    "            return input_array[mid_point]\n",
    "    return None\n",
    "    \n",
    "    \n",
    "def binary_search_3sum(input_array):\n",
    "    count = 0\n",
    "    sorted_array = sorted(input_array)\n",
    "    for i in range(0, len(sorted_array), 1):\n",
    "        for j in range(i+1, len(sorted_array), 1):\n",
    "            target_value = sorted_array[i] + sorted_array[j]\n",
    "            if binary_search(sorted_array, -target_value) and\\\n",
    "                sorted_array[i] < sorted_array [j] < -target_value:\n",
    "                count += 1\n",
    "    return count\n",
    "    "
   ]
  },
  {
   "cell_type": "code",
   "execution_count": 15,
   "metadata": {},
   "outputs": [
    {
     "name": "stdout",
     "output_type": "stream",
     "text": [
      "2\n",
      "2\n"
     ]
    }
   ],
   "source": [
    "test_array = [0, -1, 2, -3, 1]\n",
    "print(brute_force_3sum(test_array))\n",
    "print(binary_search_3sum(test_array))"
   ]
  },
  {
   "cell_type": "code",
   "execution_count": 33,
   "metadata": {},
   "outputs": [
    {
     "name": "stdout",
     "output_type": "stream",
     "text": [
      "9\n"
     ]
    }
   ],
   "source": [
    "print(binary_search([1,5,8,9,10], 9))"
   ]
  },
  {
   "cell_type": "markdown",
   "metadata": {},
   "source": [
    "Q2. We discussed the Union-Find algorithm in class. Implement the three versions: (i) Quick Find, (ii) Quick Union, and (iii) Quick Union with Weight Balancing. Using Data provided here determine the run time cost of your implementation (as a function of input data size). Plot and analyze your data. \n",
    "\n",
    "\n",
    "Note:  The maximum value of a point label is 8192 for all the different input data set. This implies there could in principle be approximately 8192 x 8192 connections.  Each line of the input data set contains an integer pair (p, q) which implies that p is connected to q.  Recall: UF algorithm should\n",
    "\n",
    " \n",
    "// read in a sequence of pairs of integers (each in the range 1 to N) where N=8192\n",
    "\n",
    " \n",
    "// calling find() for each pair: If the members of the pair are not already connected\n",
    "\n",
    " \n",
    "// call union() and print the pair."
   ]
  },
  {
   "cell_type": "code",
   "execution_count": 87,
   "metadata": {},
   "outputs": [],
   "source": [
    "class UF_base:\n",
    "    def __init__(self, size):\n",
    "        self.N = size\n",
    "        self.id_array = list(range(size))\n",
    "    def find(self, p, q):\n",
    "        pass\n",
    "    def union(self, p, q):\n",
    "        pass\n",
    "    \n",
    "\n",
    "class UF_quickfind(UF_base):\n",
    "    def find(self, p, q):\n",
    "        return self.id_array[p] == self.id_array[q]\n",
    "    def union(self, p, q):\n",
    "        pid = self.id_array[p]\n",
    "        qid = self.id_array[q]\n",
    "        for i in range(self.N):\n",
    "            if self.id_array[i] == pid:\n",
    "                self.id_array[i] = qid\n",
    "\n",
    "        \n",
    "class UF_quickunion(UF_base):\n",
    "    def root(self, i):\n",
    "        while i != self.id_array[i]:\n",
    "            i = self.id_array[i]\n",
    "        return i\n",
    "    def find(self, p, q):\n",
    "        return self.root(p) == self.root(q)\n",
    "    def union(self, p, q):\n",
    "        i = self.root(p)\n",
    "        j = self.root(q)\n",
    "        self.id_array[i] = j\n",
    "        \n",
    "class UF_quickunionbalanced(UF_base):\n",
    "    def __init__(self, size):\n",
    "        UF_base.__init__(self, size)\n",
    "        self.size_array = [1] * size   \n",
    "    def root(self, i):\n",
    "        while i != self.id_array[i]:\n",
    "            i = self.id_array[i]\n",
    "        return i\n",
    "    def find(self, p, q):\n",
    "        return self.root(p) == self.root(q)\n",
    "    def union(self, p, q):\n",
    "        i = self.root(p)\n",
    "        j = self.root(q)\n",
    "        if self.size_array[i] < self.size_array[j]:\n",
    "            self.id_array[i] = j\n",
    "            self.size_array[j] += self.size_array[i]\n",
    "        else:\n",
    "            self.id_array[j] = i\n",
    "            self.size_array[i] += self.size_array[j]"
   ]
  },
  {
   "cell_type": "code",
   "execution_count": 88,
   "metadata": {},
   "outputs": [
    {
     "name": "stdout",
     "output_type": "stream",
     "text": [
      "[0, 1, 2, 3, 4, 5, 6, 7, 8, 9, 10, 11]\n",
      "[0, 1, 2, 3, 4, 5, 6, 7, 8, 9, 10, 11]\n",
      "[0, 1, 2, 3, 4, 5, 6, 7, 8, 9, 10, 11]\n",
      "[0, 1, 2, 3, 4, 5, 6, 7, 8, 9, 10, 11]\n",
      "[1, 1, 1, 1, 1, 1, 1, 1, 1, 1, 1, 1]\n",
      "[0, 2, 2, 3, 4, 5, 6, 7, 8, 9, 10, 11]\n",
      "[0, 2, 2, 3, 4, 5, 6, 7, 8, 9, 10, 11]\n",
      "[0, 1, 1, 3, 4, 5, 6, 7, 8, 9, 10, 11]\n",
      "[1, 2, 1, 1, 1, 1, 1, 1, 1, 1, 1, 1]\n"
     ]
    }
   ],
   "source": [
    "test = UF_base(12)\n",
    "print(test.id_array)\n",
    "\n",
    "quickfind_test = UF_quickfind(12)\n",
    "print(quickfind_test.id_array)\n",
    "\n",
    "quickunion_test = UF_quickunion(12)\n",
    "print(quickunion_test.id_array)\n",
    "\n",
    "quickunionbalanced_test = UF_quickunionbalanced(12)\n",
    "print(quickunionbalanced_test.id_array)\n",
    "print(quickunionbalanced_test.size_array)\n",
    "\n",
    "test.find(1,2)\n",
    "test.union(1,2)\n",
    "test.find(1,2)\n",
    "\n",
    "quickfind_test.find(1,2)\n",
    "quickfind_test.union(1,2)\n",
    "quickfind_test.find(1,2)\n",
    "print(quickfind_test.id_array)\n",
    "\n",
    "quickunion_test.find(1,2)\n",
    "quickunion_test.union(1,2)\n",
    "quickunion_test.find(1,2)\n",
    "print(quickunion_test.id_array)\n",
    "\n",
    "quickunionbalanced_test.find(1,2)\n",
    "quickunionbalanced_test.union(1,2)\n",
    "quickunionbalanced_test.find(1,2)\n",
    "print(quickunionbalanced_test.id_array)\n",
    "print(quickunionbalanced_test.size_array)\n"
   ]
  },
  {
   "cell_type": "markdown",
   "metadata": {},
   "source": [
    "Q4: Farthest Pair (1 Dimension): Write a program that, given an array a[] of N double values, find a farthest pair: two values whose difference is no smaller than the difference of any other pair (in absolute value). The running time of the program should be LINEAR IN THE WORST CASE."
   ]
  },
  {
   "cell_type": "markdown",
   "metadata": {},
   "source": [
    "My interpretation of this problem is that we would like to create a linear algorithm to find the two numbers that when subtracted yield the largest magnitude.\n",
    "\n",
    "\n",
    "Pseudocode:\n",
    "\n",
    "Find the minimum element of the array\n",
    "\n",
    "Find the maximum element of the array\n",
    "\n",
    "Print the values of the minimum and maximum elements and their difference\n",
    "\n",
    "\n",
    "Finding the minimum and maximum elements are both O(N) operations, we iterate through each element of the array to find the smallest and largest value contained in the array. Therefore the overall complexity is O(N)"
   ]
  },
  {
   "cell_type": "code",
   "execution_count": 4,
   "metadata": {},
   "outputs": [],
   "source": [
    "def farthest_pair(a):\n",
    "    min_value = min(a)\n",
    "    max_value = max(a)\n",
    "    print(min_value, max_value, abs(max_value-min_value))"
   ]
  },
  {
   "cell_type": "code",
   "execution_count": 6,
   "metadata": {},
   "outputs": [
    {
     "name": "stdout",
     "output_type": "stream",
     "text": [
      "-987.24 900.19312 1887.4331200000001\n"
     ]
    }
   ],
   "source": [
    "test_array = [.14141, -132.12, 92.312, 900.19312, 123.45, -987.24]\n",
    "farthest_pair(test_array)"
   ]
  },
  {
   "cell_type": "markdown",
   "metadata": {},
   "source": [
    "Q5.  Faster-est-ist 3-sum: Develop an implementation that uses a linear algorithm to count the number of pairs that sum to zero after the array is sorted (instead of the binary-search based linearithmic algorithm). Use the ideas to develop a quadratic algorithm for the 3-sum problem."
   ]
  },
  {
   "cell_type": "markdown",
   "metadata": {},
   "source": [
    "Algorithm Idea:\n",
    "\n",
    "Given a sorted array as input\n",
    "\n",
    "We start with an O(n) algorithm that counts the number of pairs that sum to zero.\n",
    "\n",
    "We can then extend this to an O(n) algorithm that counts the number of pairs that sum to a desired number.\n",
    "\n",
    "We then can access each element of the array and run the above algorithm as the desired number and count the number of pairs for each one. With some additional checks to ensure we are not double counting then we should be able to count the total number of 3sums to 0 through N function calls to the O(N) algorithm giving us the overall complexity of O(NlogN + N^2) = O(N^2)\n",
    "\n",
    "\n",
    "Linear pairs summing to target algorithm pseudocode:\n",
    "\n",
    "Set left index to the beginning of the array\n",
    "\n",
    "Set right index to the end of the array\n",
    "\n",
    "While the left index is less than the right index\n",
    "\n",
    "if the sum of the left and right values is the target then we increment the count and increment the left index\n",
    "\n",
    "else if the sum of the left and right values is less than the target then we move closer to the target by incrementing the left index\n",
    "\n",
    "else we move closer to the target by decrementing the right index\n",
    "\n",
    "return count\n",
    "\n",
    "\n",
    "We modify the above algorithm to only increment the count if the left is less than the right is less than the value of the array element we are accessing\n",
    "\n",
    "\n",
    "Fastest 3sum using linear pairs pseudocode:\n",
    "\n",
    "Sort the array\n",
    "\n",
    "Iterate through the array and add the return value of the (modified) linear pair algorithm when it is given the (negative) value of the current array element\n",
    "\n",
    "return count"
   ]
  },
  {
   "cell_type": "code",
   "execution_count": 36,
   "metadata": {},
   "outputs": [],
   "source": [
    "# input_array should be sorted\n",
    "def linear_pairs(input_array, target):\n",
    "    count = 0\n",
    "    left = 0 \n",
    "    right = len(input_array) - 1\n",
    "    \n",
    "    while left < right:\n",
    "        if (input_array[left] + input_array[right]) == target and\\\n",
    "            input_array[left] < input_array[right] < -target:\n",
    "            count += 1\n",
    "            # If we find a matched pair we have to move one of the pointers to not get stuck\n",
    "            left += 1 \n",
    "        elif input_array[left] + input_array[right] < target:\n",
    "            # If the sum is currently less than the target then we want to make it larger\n",
    "            left += 1\n",
    "        else:\n",
    "            # Otherwise if the sum is greater than the target than we want to make it smaller\n",
    "            right -= 1\n",
    "    return count\n",
    "\n",
    "\n",
    "def fastest_3sum(input_array):\n",
    "    count = 0\n",
    "    sorted_array = sorted(input_array)\n",
    "    for i in range(0, len(sorted_array), 1):\n",
    "        target_value = sorted_array[i]\n",
    "        count += linear_pairs(sorted_array, -target_value)\n",
    "    return count"
   ]
  },
  {
   "cell_type": "code",
   "execution_count": 37,
   "metadata": {},
   "outputs": [
    {
     "name": "stdout",
     "output_type": "stream",
     "text": [
      "0\n"
     ]
    }
   ],
   "source": [
    "print(linear_pairs(sorted([3, 5, 2, -4, 8, 11]), 7))"
   ]
  },
  {
   "cell_type": "code",
   "execution_count": 38,
   "metadata": {},
   "outputs": [
    {
     "name": "stdout",
     "output_type": "stream",
     "text": [
      "2\n",
      "2\n",
      "2\n"
     ]
    }
   ],
   "source": [
    "test_array = [0, -1, 2, -3, 1]\n",
    "print(brute_force_3sum(test_array))\n",
    "print(binary_search_3sum(test_array))\n",
    "print(fastest_3sum(test_array))"
   ]
  },
  {
   "cell_type": "code",
   "execution_count": 2,
   "metadata": {},
   "outputs": [],
   "source": [
    "import pandas as pd\n",
    "import timeit\n",
    "\n",
    "class timing_wrapper():\n",
    "    \n",
    "    self.timing_df = pd.DataFrame()\n",
    "    \n",
    "    def __init__(self, file_path):\n",
    "        self.csv_location = file_path\n",
    "        \n",
    "    def load_timing():\n",
    "        self.timing_df = pd.read_csv(self.csv_location)\n",
    "        \n",
    "    def save_timing():\n",
    "        self.timing_df.to_csv(self.csv_location)\n",
    "        \n",
    "    def add_column():\n",
    "        "
   ]
  },
  {
   "cell_type": "code",
   "execution_count": null,
   "metadata": {},
   "outputs": [],
   "source": []
  },
  {
   "cell_type": "code",
   "execution_count": null,
   "metadata": {},
   "outputs": [],
   "source": []
  }
 ],
 "metadata": {
  "kernelspec": {
   "display_name": "Python 3",
   "language": "python",
   "name": "python3"
  },
  "language_info": {
   "codemirror_mode": {
    "name": "ipython",
    "version": 3
   },
   "file_extension": ".py",
   "mimetype": "text/x-python",
   "name": "python",
   "nbconvert_exporter": "python",
   "pygments_lexer": "ipython3",
   "version": "3.5.6"
  }
 },
 "nbformat": 4,
 "nbformat_minor": 2
}
