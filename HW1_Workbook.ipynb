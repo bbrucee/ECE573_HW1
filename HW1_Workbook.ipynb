{
 "cells": [
  {
   "cell_type": "markdown",
   "metadata": {},
   "source": [
    "Q1.   We discussed two versions of the 3-sum problem: A \"naive\" implementation (O(N^3)) and a \"sophisticated\" implementation (O(N^2 lg N)). Implement these algorithms.  Your implementation should be able to read data in from regular data/text file with each entry on a separate line.  Using Data provided here, determine the run time cost of your implementations as function of input data size.  Plot and analyze (discuss) your data.  "
   ]
  },
  {
   "cell_type": "markdown",
   "metadata": {},
   "source": [
    "No data has been provided just yet but we can still write the different implementations of the 3-sum problem"
   ]
  },
  {
   "cell_type": "markdown",
   "metadata": {},
   "source": [
    "3-sum problem: Given N distinct integers, how many triple sum to exactly zero?\n",
    "\n",
    "Discussed solution 1: The brute-force algorithm\n",
    "\n",
    "Here we iterate over all triples in the array and check each one to see if it sums to 0. This results in a O(N^3) complexity.\n",
    "\n",
    "Discussed solution 2: Binary search based algorithm\n",
    "\n",
    "Here we first sort the array, then iterate over all pairs in the array and perform a binary search for each one to see if there is a 3rd element that makes a triple sum of 0. This results in a O(NlogN + N^2 logN) = O(N^2 logN) complexity"
   ]
  },
  {
   "cell_type": "code",
   "execution_count": null,
   "metadata": {},
   "outputs": [],
   "source": [
    "def brute_force_3sum(input_array):\n",
    "    count = 0\n",
    "    for i in range(0, len(input_array), 1):\n",
    "        for j in range(i+1, len(input_array), 1):\n",
    "            for k in range(j+1, len(input_array), 1):\n",
    "                if input_array[i] + input_array[j] + input_array[k] == 0:\n",
    "                    count += 1\n",
    "    return count\n",
    "\n",
    "\n",
    "# Input array must be sorted\n",
    "def binary_search(input_array, target):\n",
    "    low = 0\n",
    "    high = len(input_array)\n",
    "    while low < high:\n",
    "        mid_point = (low + high) // 2\n",
    "        if input_array[mid_point] < target:\n",
    "            low = mid_point + 1\n",
    "        elif input_array[mid_point] > target:\n",
    "            high = mid_point\n",
    "        else:\n",
    "            return input_array[mid_point]\n",
    "    return None\n",
    "    \n",
    "    \n",
    "def binary_search_3sum(input_array):\n",
    "    count = 0\n",
    "    sorted_array = sorted(input_array)\n",
    "    for i in range(0, len(sorted_array), 1):\n",
    "        for j in range(i+1, len(sorted_array), 1):\n",
    "            target_value = sorted_array[i] + sorted_array[j]\n",
    "            if binary_search(sorted_array, -target_value) and\\\n",
    "                sorted_array[i] < sorted_array [j] < -target_value:\n",
    "                count += 1\n",
    "    return count\n",
    "    "
   ]
  },
  {
   "cell_type": "code",
   "execution_count": 40,
   "metadata": {},
   "outputs": [
    {
     "name": "stdout",
     "output_type": "stream",
     "text": [
      "2\n",
      "-3 1 2\n",
      "-1 0 1\n",
      "2\n"
     ]
    }
   ],
   "source": [
    "test_array = [0, -1, 2, -3, 1]\n",
    "print(brute_force_3sum(test_array))\n",
    "print(binary_search_3sum(test_array))"
   ]
  },
  {
   "cell_type": "code",
   "execution_count": 33,
   "metadata": {},
   "outputs": [
    {
     "name": "stdout",
     "output_type": "stream",
     "text": [
      "9\n"
     ]
    }
   ],
   "source": [
    "print(binary_search([1,5,8,9,10], 9))"
   ]
  },
  {
   "cell_type": "markdown",
   "metadata": {},
   "source": [
    "Q2. We discussed the Union-Find algorithm in class. Implement the three versions: (i) Quick Find, (ii) Quick Union, and (iii) Quick Union with Weight Balancing. Using Data provided here determine the run time cost of your implementation (as a function of input data size). Plot and analyze your data. \n",
    "\n",
    "\n",
    "Note:  The maximum value of a point label is 8192 for all the different input data set. This implies there could in principle be approximately 8192 x 8192 connections.  Each line of the input data set contains an integer pair (p, q) which implies that p is connected to q.  Recall: UF algorithm should\n",
    "\n",
    " \n",
    "// read in a sequence of pairs of integers (each in the range 1 to N) where N=8192\n",
    "\n",
    " \n",
    "// calling find() for each pair: If the members of the pair are not already connected\n",
    "\n",
    " \n",
    "// call union() and print the pair."
   ]
  },
  {
   "cell_type": "markdown",
   "metadata": {},
   "source": [
    "Q4: Farthest Pair (1 Dimension): Write a program that, given an array a[] of N double values, find a farthest pair: two values whose difference is no smaller than the difference of any other pair (in absolute value). The running time of the program should be LINEAR IN THE WORST CASE."
   ]
  },
  {
   "cell_type": "markdown",
   "metadata": {},
   "source": [
    "My interpretation of this problem is that we would like to create a linear algorithm to find the two numbers that when subtracted yield the largest magnitude.\n",
    "\n",
    "\n",
    "Pseudocode:\n",
    "\n",
    "Find the minimum element of the array\n",
    "\n",
    "Find the maximum element of the array\n",
    "\n",
    "Print the values of the minimum and maximum elements and their difference\n",
    "\n",
    "\n",
    "Finding the minimum and maximum elements are both O(N) operations, we iterate through each element of the array to find the smallest and largest value contained in the array. Therefore the overall complexity is O(N)"
   ]
  },
  {
   "cell_type": "code",
   "execution_count": null,
   "metadata": {},
   "outputs": [],
   "source": [
    "def farthest_pair(a):\n",
    "    min_value = min(a)\n",
    "    max_value = max(a)\n",
    "    print(min_value, max_value, abs(max_value-min_value))"
   ]
  },
  {
   "cell_type": "code",
   "execution_count": null,
   "metadata": {},
   "outputs": [],
   "source": [
    "test_array = [.14141, -132.12, 92.312, 900.19312, 123.45, -987.24]"
   ]
  },
  {
   "cell_type": "markdown",
   "metadata": {},
   "source": [
    "Q5.  Faster-est-ist 3-sum: Develop an implementation that uses a linear algorithm to count the number of pairs that sum to zero after the array is sorted (instead of the binary-search based linearithmic algorithm). Use the ideas to develop a quadratic algorithm for the 3-sum problem."
   ]
  },
  {
   "cell_type": "code",
   "execution_count": null,
   "metadata": {},
   "outputs": [],
   "source": [
    "def fastest_3sum(input_array):\n",
    "    count = 0\n",
    "    sorted_array = sorted(input_array)\n",
    "    for i in range(0, len(sorted_array), 1):\n",
    "        for j in range(i+1, len(sorted_array), 1):\n",
    "            target_value = sorted_array[i] + sorted_array[j]\n",
    "            if binary_search(sorted_array, -target_value) and\\\n",
    "                sorted_array[i] < sorted_array [j] < -target_value:\n",
    "                count += 1\n",
    "    return count"
   ]
  }
 ],
 "metadata": {
  "kernelspec": {
   "display_name": "Python 3",
   "language": "python",
   "name": "python3"
  },
  "language_info": {
   "codemirror_mode": {
    "name": "ipython",
    "version": 3
   },
   "file_extension": ".py",
   "mimetype": "text/x-python",
   "name": "python",
   "nbconvert_exporter": "python",
   "pygments_lexer": "ipython3",
   "version": "3.5.6"
  }
 },
 "nbformat": 4,
 "nbformat_minor": 2
}
